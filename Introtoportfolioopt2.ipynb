{
  "nbformat": 4,
  "nbformat_minor": 0,
  "metadata": {
    "colab": {
      "provenance": [],
      "authorship_tag": "ABX9TyP2dy59YPl/ncXHfE5lDH9z",
      "include_colab_link": true
    },
    "kernelspec": {
      "name": "python3",
      "display_name": "Python 3"
    },
    "language_info": {
      "name": "python"
    }
  },
  "cells": [
    {
      "cell_type": "markdown",
      "metadata": {
        "id": "view-in-github",
        "colab_type": "text"
      },
      "source": [
        "<a href=\"https://colab.research.google.com/github/raketic-ognjen/introtoportfolioopt2/blob/main/Introtoportfolioopt2.ipynb\" target=\"_parent\"><img src=\"https://colab.research.google.com/assets/colab-badge.svg\" alt=\"Open In Colab\"/></a>"
      ]
    },
    {
      "cell_type": "markdown",
      "source": [
        "# <font color='tomato' style=\"font-size:40px\"><center><b>Introduction to Portfolio Optimization</b></center></font><font color='DarkOrange' style=\"font-size:30px\"><center><b>- Part 2 -</b></center></font>"
      ],
      "metadata": {
        "id": "ky7C-Z3dGzmT"
      }
    },
    {
      "cell_type": "code",
      "execution_count": null,
      "metadata": {
        "id": "CYdlHQZ2FR3J"
      },
      "outputs": [],
      "source": []
    }
  ]
}